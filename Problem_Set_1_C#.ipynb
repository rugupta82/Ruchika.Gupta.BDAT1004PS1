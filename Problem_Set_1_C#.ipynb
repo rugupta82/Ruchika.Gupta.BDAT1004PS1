{
 "cells": [
  {
   "cell_type": "markdown",
   "id": "21245b08",
   "metadata": {},
   "source": [
    "## Question 1\n",
    "\n",
    " What data type is each of the following?\n",
    " \n",
    "    5                       Integer \n",
    "    5.0                     Float\n",
    "    5 > 1                   Boolean\n",
    "    '5'                     Char\n",
    "    5 * 2                   Integer\n",
    "    '5' * 2                 String\n",
    "    '5' + '2'               String\n",
    "    5 / 2                   Float\n",
    "    5 % 2                   Integer\n",
    "    {5, 2, 1}               Integer\n",
    "    5 == 3                  Boolean\n",
    "    Pi (the number)         Float\n",
    "    \n",
    " \n",
    " \n",
    " \n",
    "## Question 2 \n",
    " \n",
    "Write (and evaluate) C# expressions that answer these questions:\n",
    "\n",
    "a. How many letters are there in 'Supercalifragilisticexpialidocious'?\n",
    "\n",
    "b. Does 'Supercalifragilisticexpialidocious' contain 'ice' as a substring?\n",
    "\n",
    "c. Which of the following words is the longest: Supercalifragilisticexpialidocious, Honorificabilitudinitatibus, or   \n",
    "   Bababadalgharaghtakamminarronnkonn?\n",
    "   \n",
    "d. Which composer comes first in the dictionary: 'Berlioz', 'Borodin', 'Brian', 'Bartok', 'Bellini', 'Buxtehude', \n",
    "   'Bernstein'. Which one comes last?\n",
    "  "
   ]
  },
  {
   "cell_type": "code",
   "execution_count": 7,
   "id": "f138f04e",
   "metadata": {},
   "outputs": [
    {
     "name": "stdout",
     "output_type": "stream",
     "text": [
      "Number of letters in Supercalifragilisticexpialidocious = 34 \r\n"
     ]
    }
   ],
   "source": [
    "// 2a\n",
    "\n",
    "string word = \"Supercalifragilisticexpialidocious\";\n",
    "\n",
    "Console.WriteLine($\"Number of letters in {word} = {word.Length} \");"
   ]
  },
  {
   "cell_type": "code",
   "execution_count": 13,
   "id": "67b6b137",
   "metadata": {},
   "outputs": [
    {
     "name": "stdout",
     "output_type": "stream",
     "text": [
      "Supercalifragilisticexpialidocious contains 'ice' as a substring.\r\n"
     ]
    }
   ],
   "source": [
    "// 2b\n",
    "\n",
    "string word = \"Supercalifragilisticexpialidocious\";\n",
    "if (word.Contains(\"ice\"))\n",
    "{\n",
    "Console.WriteLine(word + \" contains 'ice' as a substring.\");\n",
    "}\n"
   ]
  },
  {
   "cell_type": "code",
   "execution_count": 15,
   "id": "65d15302",
   "metadata": {},
   "outputs": [
    {
     "name": "stdout",
     "output_type": "stream",
     "text": [
      "Supercalifragilisticexpialidocious is the longest word\r\n"
     ]
    }
   ],
   "source": [
    "// 2c\n",
    "\n",
    "string word1 = \"Supercalifragilisticexpialidocious\";\n",
    "string word2 = \"Honorificabilitudinitatibus\";\n",
    "string word3 = \"Bababadalgharaghtakamminarronnkonn\";\n",
    "\n",
    "    if(word1.Length>word2.Length)\n",
    "    {\n",
    "    Console.WriteLine($\"{word1} is the longest word\");\n",
    "    }\n",
    "    else if(word2.Length>word3.Length)\n",
    "    {\n",
    "    Console.WriteLine($\"{word2} is the longest word\");\n",
    "    }\n",
    "    else\n",
    "    {\n",
    "    Console.WriteLine($\"{word3} is the longest word\");\n",
    "    }"
   ]
  },
  {
   "cell_type": "code",
   "execution_count": 20,
   "id": "ea48376d",
   "metadata": {},
   "outputs": [
    {
     "name": "stdout",
     "output_type": "stream",
     "text": [
      "The first composer in the Dictionary is Bartok\n",
      "The Last composer in the Dictionary is Buxtehude\n"
     ]
    }
   ],
   "source": [
    "// 2d\n",
    "\n",
    "string[] wordArray = {\"Berlioz\", \"Borodin\", \"Brian\", \"Bartok\", \"Bellini\", \"Buxtehude\", \"Bernstein\"};\n",
    "Array.Sort(wordArray); \n",
    "Console.WriteLine($\"The first composer in the Dictionary is {wordArray[0]}\");\n",
    "Array.Reverse(wordArray);\n",
    "Console.WriteLine($\"The Last composer in the Dictionary is {wordArray[0]}\");"
   ]
  },
  {
   "cell_type": "markdown",
   "id": "d3531d90",
   "metadata": {},
   "source": [
    "## Question 3\n",
    "\n",
    "Implement function triangleArea(a,b,c) that takes as input the lengths of the 3 sides of a triangle and returns the area of \n",
    "\n",
    "the triangle. By Heron's formula, the area of a triangle with side lengths a, b, and c is s(s − a)(s − b)(s − c), where\n",
    "\n",
    "s = (a + b + c)/2.\n",
    "\n",
    ">>> triangleArea(2,2,2) \n",
    "1.7320508075688772"
   ]
  },
  {
   "cell_type": "code",
   "execution_count": 19,
   "id": "394e5542",
   "metadata": {},
   "outputs": [
    {
     "name": "stdout",
     "output_type": "stream",
     "text": [
      "Area of Triangle = 1.7320508075688772\r\n"
     ]
    }
   ],
   "source": [
    "public void triangleArea(double a, double b, double c)\n",
    "{   \n",
    "    double s= (a+b+c)/2;\n",
    "    double area = Math.Sqrt(s*(s-a)*(s-b)*(s-c));\n",
    "    Console.WriteLine(\"Area of Triangle = {0}\", area); \n",
    "}\n",
    "\n",
    "triangleArea(2,2,2);"
   ]
  },
  {
   "cell_type": "markdown",
   "id": "5ab499a8",
   "metadata": {},
   "source": [
    "## Question 4 \n",
    "\n",
    "Write a program in C# Sharp to separate odd and even integers in separate arrays. Go to the editor\n",
    "\n",
    "Test Data :\n",
    "Input the number of elements to be stored in the array :5\n",
    "\n",
    "Input 5 elements in the array :\n",
    "element - 0 : 25\n",
    "element - 1 : 47\n",
    "element - 2 : 42\n",
    "element - 3 : 56\n",
    "element - 4 : 32\n",
    "\n",
    "\n",
    "Expected Output:\n",
    "The Even elements are: 42 56 32\n",
    "The Odd elements are : 25 47"
   ]
  },
  {
   "cell_type": "code",
   "execution_count": 31,
   "id": "dd8b6dfa",
   "metadata": {},
   "outputs": [
    {
     "name": "stdout",
     "output_type": "stream",
     "text": [
      "The even elements are: 42 56 32 \n",
      "The odd elements are: 25 47 \n"
     ]
    }
   ],
   "source": [
    "int[] elements = {25,47,42,56,32}; \n",
    "      \n",
    "    string even =\"\"; \n",
    "    string odd =\"\"; \n",
    "        \n",
    "    foreach (var number in elements)  \n",
    "    {  \n",
    "        if (number % 2 == 0)  \n",
    "        {\n",
    "        even = even + number + \" \";\n",
    "        } \n",
    "        else \n",
    "        {\n",
    "        odd = odd + number + \" \"; \n",
    "        } \n",
    "    }\n",
    "    \n",
    "    Console.WriteLine($\"The even elements are: {even}\");\n",
    "    Console.WriteLine($\"The odd elements are: {odd}\");\n",
    "   "
   ]
  },
  {
   "cell_type": "markdown",
   "id": "a9933dc8",
   "metadata": {},
   "source": [
    "## Question 5 \n",
    "\n",
    "a. Write a function inside(x,y,x1,y1,x2,y2) that returns True or False depending on whether the point (x,y) lies in the rectangle with lower left corner (x1,y1) and upper right corner (x2,y2).\n",
    "\n",
    ">>> inside(1,1,0,0,2,3)\n",
    "True\n",
    ">>> inside(-1,-1,0,0,2,3)\n",
    "False\n",
    "\n",
    "b. Use function inside() from part a. to write an expression that tests whether the point (1,1) lies in both of the following rectangles: one with lower left corner (0.3, 0.5) and upper right corner (1.1, 0.7) and the other with lower left corner (0.5, 0.2) and upper right corner (1.1, 2).\n"
   ]
  },
  {
   "cell_type": "code",
   "execution_count": 35,
   "id": "fd240194",
   "metadata": {},
   "outputs": [
    {
     "name": "stdout",
     "output_type": "stream",
     "text": [
      "inside(1,1,0,0,2,3)\n",
      "True\n",
      "inside(-1,-1,0,0,2,3)\n",
      "False\n",
      "\n",
      "point (1,1) lies in both of the rectangles (0.3,0.5,1.1,0.7) and (0.5,0.2,1.1,2)\n",
      "False\n"
     ]
    }
   ],
   "source": [
    "public bool Inside(double x, double y, double x1, double y1, double x2, double y2)\n",
    "{\n",
    "    if (x > x1 && x < x2 && y > y1 && y < y2) \n",
    "        return true; \n",
    "    return false; \n",
    "} \n",
    "\n",
    "// 5a\n",
    "Console.WriteLine($\"inside(1,1,0,0,2,3)\");\n",
    "Console.WriteLine($\"{Inside(1,1,0,0,2,3)}\");\n",
    "\n",
    "Console.WriteLine($\"inside(-1,-1,0,0,2,3)\");\n",
    "Console.WriteLine($\"{Inside(-1,-1,0,0,2,3)}\");\n",
    "Console.WriteLine();\n",
    "\n",
    "// 5b\n",
    "Console.WriteLine($\"point (1,1) lies in both of the rectangles (0.3,0.5,1.1,0.7) and (0.5,0.2,1.1,2)\");\n",
    "Console.WriteLine($\"{Inside(1,1,0.3,0.5,1.1,0.7) && Inside(1,1,0.5,0.2,1.1,2)}\");"
   ]
  },
  {
   "cell_type": "code",
   "execution_count": null,
   "id": "e3c9761d",
   "metadata": {},
   "outputs": [],
   "source": []
  },
  {
   "cell_type": "code",
   "execution_count": null,
   "id": "5032f435",
   "metadata": {},
   "outputs": [],
   "source": []
  }
 ],
 "metadata": {
  "kernelspec": {
   "display_name": ".NET (C#)",
   "language": "C#",
   "name": ".net-csharp"
  },
  "language_info": {
   "file_extension": ".cs",
   "mimetype": "text/x-csharp",
   "name": "C#",
   "pygments_lexer": "csharp",
   "version": "8.0"
  }
 },
 "nbformat": 4,
 "nbformat_minor": 5
}
