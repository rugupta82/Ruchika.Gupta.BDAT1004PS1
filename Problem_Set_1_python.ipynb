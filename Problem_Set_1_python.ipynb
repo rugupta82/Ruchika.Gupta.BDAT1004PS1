{
 "cells": [
  {
   "cell_type": "markdown",
   "id": "cb0a8e92",
   "metadata": {},
   "source": [
    "## Question 6 \n",
    "\n",
    "You can turn a word into pig-Latin using the following two rules (simplified):\n",
    "\n",
    "• If the word starts with a consonant, move that letter to the end and append 'ay'. For example, 'happy' becomes 'appyhay' and 'pencil' becomes 'encilpay'.\n",
    "\n",
    "• If the word starts with a vowel, simply append 'way' to the end of the word. For example, 'enter' becomes 'enterway' and 'other' becomes 'otherway' . For our purposes, there are 5 vowels: a, e, i, o, u (so we count y as a consonant).\n",
    "\n",
    "Write a function pig() that takes a word (i.e., a string) as input and returns its pig- Latin form. Your function should still work if the input word contains upper case characters. Your output should always be lower case however.\n",
    "\n",
    ">>> pig('happy') 'appyhay'\n",
    ">>> pig('Enter') 'enterway'"
   ]
  },
  {
   "cell_type": "code",
   "execution_count": 15,
   "id": "7d68d165",
   "metadata": {},
   "outputs": [
    {
     "name": "stdout",
     "output_type": "stream",
     "text": [
      "Enter a word: Happy\n",
      "pigLatin word of Happy is appyhay\n"
     ]
    }
   ],
   "source": [
    "string = input(\"Enter a word: \")\n",
    "vowels = ['a', 'e', 'i', 'o', 'u']\n",
    "\n",
    "def pigLatin(string):\n",
    "    stringLower = string.lower()\n",
    "    if stringLower[0] in vowels:\n",
    "        string = stringLower + \"way\"\n",
    "        return string\n",
    "    else:\n",
    "        string = stringLower[1:] + stringLower[0] + \"ay\"\n",
    "        return string\n",
    "    \n",
    "print(\"pigLatin word of \"+ string + \" is \" + pigLatin(string))"
   ]
  },
  {
   "cell_type": "code",
   "execution_count": 16,
   "id": "cabbd59b",
   "metadata": {},
   "outputs": [
    {
     "name": "stdout",
     "output_type": "stream",
     "text": [
      "Enter a word: Enter\n",
      "pigLatin word of Enter is enterway\n"
     ]
    }
   ],
   "source": [
    "string = input(\"Enter a word: \")\n",
    "vowels = ['a', 'e', 'i', 'o', 'u']\n",
    "\n",
    "def pigLatin(string):\n",
    "    stringLower = string.lower()\n",
    "    if stringLower[0] in vowels:\n",
    "        string = stringLower + \"way\"\n",
    "        return string\n",
    "    else:\n",
    "        string = stringLower[1:] + stringLower[0] + \"ay\"\n",
    "        return string\n",
    "    \n",
    "print(\"pigLatin word of \"+ string + \" is \" + pigLatin(string))"
   ]
  },
  {
   "cell_type": "markdown",
   "id": "f36626b8",
   "metadata": {},
   "source": [
    "## Question 7 Python\n",
    "\n",
    "File bloodtype1.txt records blood-types of patients (A, B, AB, O or OO) at a clinic. Write a function bldcount() that reads the file with name name and reports (i.e., prints) how many patients there are in each bloodtype.\n",
    "\n",
    ">>> bldcount('bloodtype.txt')\n",
    "\n",
    "There are 10 patients of blood type A. There is one patient of blood type B. There are 10 patients of blood type AB. There are 12 patients of blood type O. There are no patients of blood type OO."
   ]
  },
  {
   "cell_type": "code",
   "execution_count": 3,
   "id": "4aaf7f80",
   "metadata": {},
   "outputs": [
    {
     "name": "stdout",
     "output_type": "stream",
     "text": [
      "Number of patients with blood group A are 15\n",
      "Number of patients with blood group B are 1\n",
      "Number of patients with blood group AB are 13\n",
      "Number of patients with blood group O are 15\n",
      "Number of patients with blood group OO are 0\n"
     ]
    }
   ],
   "source": [
    "def bldcount():\n",
    "    infile = open(\"bloodtype1.txt\", \"r\")\n",
    "    infile1 = infile.read() \n",
    "    infile.close()\n",
    "    groups = infile1.split()\n",
    "    \n",
    "    print(\"Number of patients with blood group A are \" + str(groups.count(\"A\")))\n",
    "    print(\"Number of patients with blood group B are \" + str(groups.count(\"B\")))\n",
    "    print(\"Number of patients with blood group AB are \" + str(groups.count(\"AB\")))\n",
    "    print(\"Number of patients with blood group O are \" + str(groups.count(\"O\")))\n",
    "    print(\"Number of patients with blood group OO are \" + str(groups.count(\"OO\")))\n",
    "\n",
    "    \n",
    "bldcount()"
   ]
  },
  {
   "cell_type": "markdown",
   "id": "f1e45e40",
   "metadata": {},
   "source": [
    "## Question 8 Python\n",
    "\n",
    "Write a function curconv() that takes as input:\n",
    "\n",
    "1. a currency represented using a string (e.g., 'JPY' for the Japanese Yen or 'EUR' for the Euro)\n",
    "2. an amount\n",
    "\n",
    "and then converts and returns the amount in US dollars.\n",
    "\n",
    ">>> curconv('EUR', 100)\n",
    "122.96544\n",
    ">>> curconv('JPY', 100)\n",
    "1.241401"
   ]
  },
  {
   "cell_type": "code",
   "execution_count": 8,
   "id": "3b745adc",
   "metadata": {},
   "outputs": [
    {
     "name": "stdout",
     "output_type": "stream",
     "text": [
      "122.96544\n"
     ]
    }
   ],
   "source": [
    "def curconv(code, amount):\n",
    "    infile = open(\"currencies.txt\", \"r\")\n",
    "    infile1 = infile.readlines()\n",
    "    infile.close()\n",
    "    for infile in infile1:\n",
    "        group = infile.split()\n",
    "        if code == group[0]:\n",
    "            amt_per_dollor = float(group[1])\n",
    "            dollors_US = amount * amt_per_dollor\n",
    "            \n",
    "    print(dollors_US)\n",
    "    \n",
    "curconv(\"EUR\", 100)"
   ]
  },
  {
   "cell_type": "code",
   "execution_count": 9,
   "id": "610535c7",
   "metadata": {},
   "outputs": [
    {
     "name": "stdout",
     "output_type": "stream",
     "text": [
      "1.241401\n"
     ]
    }
   ],
   "source": [
    "def curconv(code, amount):\n",
    "    infile = open(\"currencies.txt\", \"r\")\n",
    "    infile1 = infile.readlines()\n",
    "    infile.close()\n",
    "    for infile in infile1:\n",
    "        group = infile.split()\n",
    "        if code == group[0]:\n",
    "            amt_per_dollor = float(group[1])\n",
    "            dollors_US = amount * amt_per_dollor\n",
    "            \n",
    "    print(dollors_US)\n",
    "    \n",
    "curconv(\"JPY\", 100)"
   ]
  },
  {
   "cell_type": "markdown",
   "id": "9743bd09",
   "metadata": {},
   "source": [
    "## Question 9 Python\n",
    "\n",
    "Each of the following will cause an exception (an error). Identify what type of exception each will cause.\n",
    "\n",
    "1. Trying to add incompatible variables, as in adding 6 + ‘a’\n",
    "\n",
    "2. Referring to the 12th item of a list that has only 10 items\n",
    "\n",
    "3. Using a value that is out of range for a function’s input, such as calling math.sqrt(-1.0)\n",
    "\n",
    "4. Using an undeclared variable, such as print(x) when x has not been defined\n",
    "\n",
    "6. Trying to open a file that does not exist, such as mistyping the file name or looking in the wrong directory."
   ]
  },
  {
   "cell_type": "code",
   "execution_count": 10,
   "id": "8b788d52",
   "metadata": {},
   "outputs": [
    {
     "ename": "TypeError",
     "evalue": "unsupported operand type(s) for +: 'int' and 'str'",
     "output_type": "error",
     "traceback": [
      "\u001b[1;31m---------------------------------------------------------------------------\u001b[0m",
      "\u001b[1;31mTypeError\u001b[0m                                 Traceback (most recent call last)",
      "\u001b[1;32m~\\AppData\\Local\\Temp\\ipykernel_14820\\2355072174.py\u001b[0m in \u001b[0;36m<module>\u001b[1;34m\u001b[0m\n\u001b[0;32m      1\u001b[0m \u001b[1;31m# 1\u001b[0m\u001b[1;33m\u001b[0m\u001b[1;33m\u001b[0m\u001b[0m\n\u001b[1;32m----> 2\u001b[1;33m \u001b[1;36m6\u001b[0m \u001b[1;33m+\u001b[0m \u001b[1;34m'a'\u001b[0m\u001b[1;33m\u001b[0m\u001b[1;33m\u001b[0m\u001b[0m\n\u001b[0m",
      "\u001b[1;31mTypeError\u001b[0m: unsupported operand type(s) for +: 'int' and 'str'"
     ]
    }
   ],
   "source": [
    "# 1\n",
    "6 + 'a'"
   ]
  },
  {
   "cell_type": "code",
   "execution_count": 11,
   "id": "5ab5908d",
   "metadata": {},
   "outputs": [
    {
     "ename": "IndexError",
     "evalue": "list index out of range",
     "output_type": "error",
     "traceback": [
      "\u001b[1;31m---------------------------------------------------------------------------\u001b[0m",
      "\u001b[1;31mIndexError\u001b[0m                                Traceback (most recent call last)",
      "\u001b[1;32m~\\AppData\\Local\\Temp\\ipykernel_14820\\2710060479.py\u001b[0m in \u001b[0;36m<module>\u001b[1;34m\u001b[0m\n\u001b[0;32m      1\u001b[0m \u001b[1;31m# 2\u001b[0m\u001b[1;33m\u001b[0m\u001b[1;33m\u001b[0m\u001b[0m\n\u001b[0;32m      2\u001b[0m \u001b[0mlist\u001b[0m \u001b[1;33m=\u001b[0m \u001b[1;33m[\u001b[0m\u001b[1;36m1\u001b[0m\u001b[1;33m,\u001b[0m \u001b[1;36m2\u001b[0m\u001b[1;33m,\u001b[0m \u001b[1;36m3\u001b[0m\u001b[1;33m,\u001b[0m \u001b[1;36m4\u001b[0m\u001b[1;33m,\u001b[0m \u001b[1;36m5\u001b[0m\u001b[1;33m,\u001b[0m \u001b[1;36m6\u001b[0m\u001b[1;33m,\u001b[0m \u001b[1;36m7\u001b[0m\u001b[1;33m,\u001b[0m \u001b[1;36m8\u001b[0m\u001b[1;33m,\u001b[0m \u001b[1;36m9\u001b[0m\u001b[1;33m,\u001b[0m \u001b[1;36m10\u001b[0m\u001b[1;33m]\u001b[0m\u001b[1;33m\u001b[0m\u001b[1;33m\u001b[0m\u001b[0m\n\u001b[1;32m----> 3\u001b[1;33m \u001b[0mprint\u001b[0m\u001b[1;33m(\u001b[0m\u001b[0mlist\u001b[0m\u001b[1;33m[\u001b[0m\u001b[1;36m12\u001b[0m\u001b[1;33m]\u001b[0m\u001b[1;33m)\u001b[0m\u001b[1;33m\u001b[0m\u001b[1;33m\u001b[0m\u001b[0m\n\u001b[0m",
      "\u001b[1;31mIndexError\u001b[0m: list index out of range"
     ]
    }
   ],
   "source": [
    "# 2\n",
    "list = [1, 2, 3, 4, 5, 6, 7, 8, 9, 10]\n",
    "print(list[12])"
   ]
  },
  {
   "cell_type": "code",
   "execution_count": 12,
   "id": "e47cf0c6",
   "metadata": {},
   "outputs": [
    {
     "ename": "ValueError",
     "evalue": "math domain error",
     "output_type": "error",
     "traceback": [
      "\u001b[1;31m---------------------------------------------------------------------------\u001b[0m",
      "\u001b[1;31mValueError\u001b[0m                                Traceback (most recent call last)",
      "\u001b[1;32m~\\AppData\\Local\\Temp\\ipykernel_14820\\185058044.py\u001b[0m in \u001b[0;36m<module>\u001b[1;34m\u001b[0m\n\u001b[0;32m      1\u001b[0m \u001b[1;31m# 3\u001b[0m\u001b[1;33m\u001b[0m\u001b[1;33m\u001b[0m\u001b[0m\n\u001b[0;32m      2\u001b[0m \u001b[1;32mimport\u001b[0m \u001b[0mmath\u001b[0m\u001b[1;33m\u001b[0m\u001b[1;33m\u001b[0m\u001b[0m\n\u001b[1;32m----> 3\u001b[1;33m \u001b[0mprint\u001b[0m\u001b[1;33m(\u001b[0m\u001b[0mmath\u001b[0m\u001b[1;33m.\u001b[0m\u001b[0msqrt\u001b[0m\u001b[1;33m(\u001b[0m\u001b[1;33m-\u001b[0m\u001b[1;36m1.0\u001b[0m\u001b[1;33m)\u001b[0m\u001b[1;33m)\u001b[0m\u001b[1;33m\u001b[0m\u001b[1;33m\u001b[0m\u001b[0m\n\u001b[0m",
      "\u001b[1;31mValueError\u001b[0m: math domain error"
     ]
    }
   ],
   "source": [
    "# 3\n",
    "import math\n",
    "print(math.sqrt(-1.0))"
   ]
  },
  {
   "cell_type": "code",
   "execution_count": 13,
   "id": "169b8330",
   "metadata": {},
   "outputs": [
    {
     "ename": "NameError",
     "evalue": "name 'x' is not defined",
     "output_type": "error",
     "traceback": [
      "\u001b[1;31m---------------------------------------------------------------------------\u001b[0m",
      "\u001b[1;31mNameError\u001b[0m                                 Traceback (most recent call last)",
      "\u001b[1;32m~\\AppData\\Local\\Temp\\ipykernel_14820\\1348649610.py\u001b[0m in \u001b[0;36m<module>\u001b[1;34m\u001b[0m\n\u001b[0;32m      1\u001b[0m \u001b[1;31m# 4\u001b[0m\u001b[1;33m\u001b[0m\u001b[1;33m\u001b[0m\u001b[0m\n\u001b[1;32m----> 2\u001b[1;33m \u001b[0mprint\u001b[0m\u001b[1;33m(\u001b[0m\u001b[0mx\u001b[0m\u001b[1;33m)\u001b[0m\u001b[1;33m\u001b[0m\u001b[1;33m\u001b[0m\u001b[0m\n\u001b[0m",
      "\u001b[1;31mNameError\u001b[0m: name 'x' is not defined"
     ]
    }
   ],
   "source": [
    "# 4\n",
    "print(x)"
   ]
  },
  {
   "cell_type": "code",
   "execution_count": 14,
   "id": "f1d371c8",
   "metadata": {},
   "outputs": [
    {
     "ename": "FileNotFoundError",
     "evalue": "[Errno 2] No such file or directory: 'bloodtype.txt'",
     "output_type": "error",
     "traceback": [
      "\u001b[1;31m---------------------------------------------------------------------------\u001b[0m",
      "\u001b[1;31mFileNotFoundError\u001b[0m                         Traceback (most recent call last)",
      "\u001b[1;32m~\\AppData\\Local\\Temp\\ipykernel_14820\\3010828678.py\u001b[0m in \u001b[0;36m<module>\u001b[1;34m\u001b[0m\n\u001b[0;32m      1\u001b[0m \u001b[1;31m# 5\u001b[0m\u001b[1;33m\u001b[0m\u001b[1;33m\u001b[0m\u001b[0m\n\u001b[1;32m----> 2\u001b[1;33m \u001b[0minfile\u001b[0m \u001b[1;33m=\u001b[0m \u001b[0mopen\u001b[0m\u001b[1;33m(\u001b[0m\u001b[1;34m\"bloodtype.txt\"\u001b[0m\u001b[1;33m,\u001b[0m \u001b[1;34m\"r\"\u001b[0m\u001b[1;33m)\u001b[0m\u001b[1;33m\u001b[0m\u001b[1;33m\u001b[0m\u001b[0m\n\u001b[0m",
      "\u001b[1;31mFileNotFoundError\u001b[0m: [Errno 2] No such file or directory: 'bloodtype.txt'"
     ]
    }
   ],
   "source": [
    "# 5\n",
    "infile = open(\"bloodtype.txt\", \"r\")"
   ]
  },
  {
   "cell_type": "markdown",
   "id": "089377ea",
   "metadata": {},
   "source": [
    "## Question 10 Python\n",
    "\n",
    "Encryption is the process of hiding the meaning of a text by substituting letters in the message with other letters, according to some system. If the process is successful, no one but the intended recipient can understand the encrypted message. Cryptanalysis refers to attempts to undo the encryption, even if some details of the encryption are unknown (for example, if an encrypted message has been intercepted). The first step of cryptanalysis is often to build up a table of letter frequencies in the encrypted text. Assume that the string letters is already defined as 'abcdefghijklmnopqrstuvwxyz'. Write a function called frequencies() that takes a string as its only parameter, and returns a list of integers, showing the number of times each character appears in the text. Your function may ignore any characters that are not in letters.\n",
    ">>> frequencies('The quick red fox got bored and went home.') [1, 1, 1, 3, 5, 1, 1, 2, 1, 0, 1, 0, 1, 2, 4, 0, 1, 2, 0, 2,\n",
    "1, 0, 1, 1, 0, 0]\n",
    ">>> frequencies('apple')"
   ]
  },
  {
   "cell_type": "code",
   "execution_count": 22,
   "id": "8c2f96a3",
   "metadata": {},
   "outputs": [
    {
     "name": "stdout",
     "output_type": "stream",
     "text": [
      "[1, 1, 1, 3, 5, 1, 1, 2, 1, 0, 1, 0, 1, 2, 4, 0, 1, 2, 0, 2, 1, 0, 1, 1, 0, 0]\n",
      "[1, 0, 0, 0, 1, 0, 0, 0, 0, 0, 0, 1, 0, 0, 0, 2, 0, 0, 0, 0, 0, 0, 0, 0, 0, 0]\n"
     ]
    }
   ],
   "source": [
    "def frequencies(sentence):\n",
    "    list1 = []\n",
    "    alphabets = \"abcdefghijklmnopqrstuvwxyz\"\n",
    "    for each in alphabets:\n",
    "        letter_count = sentence.count(each)\n",
    "        list1 += str(letter_count)\n",
    "        list2 = [int(i) for i in list1]\n",
    "        \n",
    "    print(list2)\n",
    "    \n",
    "frequencies(\"The quick red fox got bored and went home.\")\n",
    "frequencies(\"apple\")"
   ]
  },
  {
   "cell_type": "code",
   "execution_count": null,
   "id": "12a5011b",
   "metadata": {},
   "outputs": [],
   "source": []
  },
  {
   "cell_type": "code",
   "execution_count": null,
   "id": "6444eb78",
   "metadata": {},
   "outputs": [],
   "source": []
  }
 ],
 "metadata": {
  "kernelspec": {
   "display_name": "Python 3 (ipykernel)",
   "language": "python",
   "name": "python3"
  },
  "language_info": {
   "codemirror_mode": {
    "name": "ipython",
    "version": 3
   },
   "file_extension": ".py",
   "mimetype": "text/x-python",
   "name": "python",
   "nbconvert_exporter": "python",
   "pygments_lexer": "ipython3",
   "version": "3.9.13"
  }
 },
 "nbformat": 4,
 "nbformat_minor": 5
}
